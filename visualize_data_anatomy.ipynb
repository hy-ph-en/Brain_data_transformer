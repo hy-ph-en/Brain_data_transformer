{
 "cells": [
  {
   "cell_type": "code",
   "execution_count": 1,
   "metadata": {},
   "outputs": [
    {
     "data": {
      "application/javascript": "IPython.notebook.set_autosave_interval(180000)"
     },
     "metadata": {},
     "output_type": "display_data"
    },
    {
     "name": "stdout",
     "output_type": "stream",
     "text": [
      "Autosaving every 180 seconds\n"
     ]
    },
    {
     "name": "stderr",
     "output_type": "stream",
     "text": [
      "<ipython-input-1-94c414df1c90>:11: DeprecationWarning: Importing display from IPython.core.display is deprecated since IPython 7.14, please import from IPython display\n",
      "  from IPython.core.display import display, HTML\n"
     ]
    },
    {
     "data": {
      "text/html": [
       "<style>.container { width:100% !important; }</style>"
      ],
      "text/plain": [
       "<IPython.core.display.HTML object>"
      ]
     },
     "metadata": {},
     "output_type": "display_data"
    }
   ],
   "source": [
    "import matplotlib\n",
    "import matplotlib.pyplot as plt\n",
    "\n",
    "%load_ext autoreload\n",
    "%autoreload 2\n",
    "\n",
    "%matplotlib tk\n",
    "%autosave 180\n",
    "\n",
    "#\n",
    "from IPython.core.display import display, HTML\n",
    "display(HTML(\"<style>.container { width:100% !important; }</style>\"))\n",
    "\n",
    "#\n",
    "import numpy as np\n",
    "import os\n",
    "\n",
    "#\n",
    "import glob\n"
   ]
  },
  {
   "cell_type": "code",
   "execution_count": 23,
   "metadata": {},
   "outputs": [
    {
     "name": "stdout",
     "output_type": "stream",
     "text": [
      "ca_data [n_timesteps, n_neural_areas]:  (16, 40000)\n",
      "(16,)\n",
      "(16,)\n",
      "Rois shapes:  (16, 128, 128)\n",
      "(16,)\n",
      " reward_times:  (43,)\n",
      "shift between neural activity and behavior(seconds)  2.5\n"
     ]
    }
   ],
   "source": [
    "########################################################\n",
    "######### LOAD RAW DATA - ANATOMICAL AREA BASED ########\n",
    "########################################################\n",
    "#\n",
    "root_dir = 'data'\n",
    "mouse_id = 'IA1'\n",
    "session_id = 'Feb_16'\n",
    "\n",
    "# load the raw data from each neural area\n",
    "animal_dir = os.path.join(root_dir, mouse_id,\n",
    "                          session_id)\n",
    "\n",
    "# find the file using glob that has \"wholestack.npz\" in it\n",
    "fname = glob.glob(os.path.join(animal_dir, '*wholestack.npz'))[0]\n",
    "\n",
    "#\n",
    "data = np.load(fname, allow_pickle=True)\n",
    "ca_data = data['whole_stack'] \n",
    "print (\"ca_data [n_timesteps, n_neural_areas]: \", ca_data.shape)\n",
    "\n",
    "#\n",
    "areas = data['areas']\n",
    "print (areas.shape)\n",
    "\n",
    "#\n",
    "areanames_area = data['areanames_area']\n",
    "print (areanames_area.shape)\n",
    "\n",
    "#\n",
    "rois_masks = data['A_reshape'].transpose(2,0,1)\n",
    "print (\"Rois shapes: \", rois_masks.shape)\n",
    "\n",
    "#\n",
    "names = data['names']\n",
    "print (names.shape)\n",
    "\n",
    "\n",
    "# load reward_times from .txt file:\n",
    "reward_times = np.loadtxt(os.path.join(root_dir,\n",
    "                                    mouse_id,\n",
    "                                        session_id,\n",
    "                                'rewarded_times.txt'))\n",
    "print (\" reward_times: \", reward_times.shape)\n",
    "\n",
    "# load the temporal shift between reward times and ca data\n",
    "d = np.load(os.path.join(root_dir,\n",
    "                        mouse_id,\n",
    "                            session_id,\n",
    "                        'blue_light_frame_triggers.npz'),\n",
    "                   allow_pickle=True)\n",
    "\n",
    "shift = d['start_blue']/30\n",
    "                             \n",
    "print (\"shift between neural activity and behavior(seconds) \", shift)\n",
    "\n",
    "# shift reward times by shift\n",
    "reward_times = reward_times + shift\n",
    "\n"
   ]
  },
  {
   "cell_type": "code",
   "execution_count": 24,
   "metadata": {},
   "outputs": [],
   "source": [
    "############################################### \n",
    "################## PLOT ROI MASKS #############\n",
    "############################################### \n",
    "plt.figure(figsize=(10,10)) \n",
    "\n",
    "for k in range(16):\n",
    "    plt.subplot(4,4,k+1)\n",
    "    plt.imshow(rois_masks[k], \n",
    "               aspect='auto',\n",
    "               cmap='jet')\n",
    "    plt.xticks([])\n",
    "    plt.yticks([])\n",
    "\n",
    "    text = names[k]\n",
    "\n",
    "    # break up text into 2 lines half way through\n",
    "    text = text[:int(len(text)/2)] + '\\n' + text[int(len(text)/2):]\n",
    "\n",
    "    plt.title(text, fontsize=10,\n",
    "               pad=0.1)\n",
    "\n",
    "#\n",
    "plt.show()"
   ]
  },
  {
   "cell_type": "code",
   "execution_count": 25,
   "metadata": {},
   "outputs": [],
   "source": [
    "###################################################### \n",
    "################## PLOT ROI TIME COURSES #############\n",
    "###################################################### \n",
    "plt.figure(figsize=(10,10)) \n",
    "\n",
    "#\n",
    "t = np.arange(ca_data.shape[1])/30\n",
    "\n",
    "#\n",
    "for k in range(16):\n",
    "    #\n",
    "    temp = ca_data[k]\n",
    "\n",
    "    # remove mean\n",
    "    temp = temp - np.mean(temp)\n",
    "\n",
    "    # zero out first and last 500 frames\n",
    "    temp[:500] = 0\n",
    "    temp[-1000:] = 0\n",
    "\n",
    "    plt.plot(t,temp + k*500, linewidth=1)\n",
    "\n",
    "#    \n",
    "plt.xlim(t[0], t[-1])\n",
    "\n",
    "# make the y labels for each plt.plot line using the names\n",
    "plt.yticks(np.arange(0, 16*500, 500), names, fontsize=8, rotation=60)\n",
    "\n",
    "#\n",
    "plt.xlabel('Time (seconds)', fontsize=14)\n",
    "\n",
    "# \n",
    "plt.suptitle(\"Mouse: \"+ mouse_id + \" , session: \" + session_id, fontsize=14)\n",
    "\n",
    "#\n",
    "plt.show()"
   ]
  },
  {
   "cell_type": "code",
   "execution_count": 26,
   "metadata": {},
   "outputs": [],
   "source": [
    "###################################################\n",
    "##### VISUALIZE FULL SESSION + REWARD TIMES #######\n",
    "###################################################\n",
    "\n",
    "#\n",
    "window_size = 10 *30   # 10 seconds\n",
    "\n",
    "ctr=0\n",
    "t = np.arange(ca_data.shape[0])/30.\n",
    "stacks = []\n",
    "for k in range(16):\n",
    "    temp = ca_data[k]\n",
    "    temp = temp-temp.mean()\n",
    "    temp[:300]=0\n",
    "    temp[-1000:]=0\n",
    "\n",
    "    # grab a stack of 300 frames around the reward time from temp\n",
    "    stack = []\n",
    "    for p in range(reward_times.shape[0]):\n",
    "        stack.append(temp[int(reward_times[p]*30)-window_size:int(reward_times[p]*30)+window_size])\n",
    "\n",
    "    # make into an array\n",
    "    stack = np.array(stack)\n",
    "   #print (k, stack.shape)\n",
    "    stacks.append(stack)\n",
    "    \n",
    "###############################################\n",
    "# plot average stacks for first value\n",
    "plt.figure(figsize=(12,12))\n",
    "\n",
    "#\n",
    "for area_id in range(16):\n",
    "    #\n",
    "    plt.subplot(4,4,area_id+1)\n",
    "\n",
    "    #\n",
    "    text = names[area_id]\n",
    "\n",
    "    # break up text into 2 lines half way through\n",
    "    text = text[:int(len(text)/2)] + '\\n' + text[int(len(text)/2):]\n",
    "\n",
    "    plt.title(\"Area \"+text,fontsize=10)\n",
    "\n",
    "    #\n",
    "    plt.yticks([])\n",
    "\n",
    "    if area_id>=12:\n",
    "        plt.xlabel(\"Time (sec)\",fontsize=12)\n",
    "    else:\n",
    "        plt.xticks([])\n",
    "\n",
    "    #\n",
    "    temp = stacks[area_id]\n",
    "    #print (\"temp: \", temp.shape)\n",
    "    t = np.arange(temp.shape[1])/30-window_size/30\n",
    "\n",
    "    # grab mean and std\n",
    "    mean = temp.mean(0)\n",
    "    std = temp.std(0)\n",
    "\n",
    "    #\n",
    "    plt.plot(t,mean, c='black')\n",
    "\n",
    "    # plot std as shaded area\n",
    "    plt.fill_between(t, mean-std, mean+std, \n",
    "                     color='black',\n",
    "                     alpha=.2)\n",
    "\n",
    "    # plot horizontal line at 0\n",
    "    plt.plot([t[0], t[-1]], [0,0],'r--')\n",
    "\n",
    "\n",
    "    # get max and ymin\n",
    "    ymin, ymax = plt.ylim()\n",
    "\n",
    "    # plot vertical line at 0\n",
    "    plt.plot([0,0],[ymin,ymax],'r--')\n",
    "\n",
    "plt.show()"
   ]
  },
  {
   "cell_type": "code",
   "execution_count": null,
   "metadata": {},
   "outputs": [],
   "source": []
  },
  {
   "cell_type": "code",
   "execution_count": null,
   "metadata": {},
   "outputs": [],
   "source": []
  },
  {
   "cell_type": "code",
   "execution_count": 44,
   "metadata": {},
   "outputs": [
    {
     "name": "stdout",
     "output_type": "stream",
     "text": [
      "start_blue:  56\n",
      "sb:  56\n"
     ]
    }
   ],
   "source": [
    "bb = np.load('/home/cat/code/neural_transformer/data/IA1/May_4/blue_light_frame_triggers.npz', allow_pickle=True)\n",
    "start_blue = bb['start_blue']\n",
    "\n",
    "print (\"start_blue: \", start_blue)\n",
    "\n",
    "fname = '/home/cat/code/neural_transformer/data/IA1/May_4/start_blue.npy'\n",
    "sb = np.load(fname, allow_pickle=True)\n",
    "\n",
    "print (\"sb: \", sb)"
   ]
  },
  {
   "cell_type": "code",
   "execution_count": null,
   "metadata": {},
   "outputs": [],
   "source": []
  }
 ],
 "metadata": {
  "kernelspec": {
   "display_name": "Python 3",
   "language": "python",
   "name": "python3"
  },
  "language_info": {
   "codemirror_mode": {
    "name": "ipython",
    "version": 3
   },
   "file_extension": ".py",
   "mimetype": "text/x-python",
   "name": "python",
   "nbconvert_exporter": "python",
   "pygments_lexer": "ipython3",
   "version": "3.8.0"
  }
 },
 "nbformat": 4,
 "nbformat_minor": 4
}
